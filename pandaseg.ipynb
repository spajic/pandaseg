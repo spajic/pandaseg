{
 "metadata": {
  "name": "pandas.ipynb"
 },
 "nbformat": 3,
 "nbformat_minor": 0,
 "worksheets": [
  {
   "cells": [
    {
     "cell_type": "code",
     "collapsed": false,
     "input": [
      "from pandas import read_csv\n",
      "from pandas import DataFrame\n",
      "from pandas import to_datetime\n",
      "import os\n",
      "path = \"C:\\\\Pandas\\\\\""
     ],
     "language": "python",
     "metadata": {},
     "outputs": [],
     "prompt_number": 1
    },
    {
     "cell_type": "code",
     "collapsed": false,
     "input": [
      "def get_datetime_from_filename(filename):\n",
      "    datestring = filename[7:13]\n",
      "    year = \"20\" + datestring[0:2]\n",
      "    month = datestring[2:4]\n",
      "    day = datestring[4:6]\n",
      "    timestring = filename[14:18]\n",
      "    hour = timestring[0:2]\n",
      "    minute = timestring[2:4]\n",
      "    # example: to_datetime('2014-02-14 13:00:00')\n",
      "    result = to_datetime(\"{0}-{1}-{2} {3}:{4}:00\".format(year, month, day, hour, minute))\n",
      "    return result\n",
      "\n",
      "print get_datetime_from_filename(\"IN_OUT_140212_0100.dat\")\n",
      "\n",
      "def read_file_to_dataframe(filename):\n",
      "    df = read_csv(path + filename, \"\\t\", usecols=[0,1], names=[\"tag\", \"value\"], header=None)\n",
      "    df['datetime'] = get_datetime_from_filename(filename)\n",
      "    df['datetimeindex'] = get_datetime_from_filename(filename)\n",
      "    df = df.set_index('datetimeindex')\n",
      "    #df['value'] = df['value'].astype(float)\n",
      "    return df\n",
      "    \n",
      "print read_file_to_dataframe(\"IN_OUT_140214_1400.dat\")"
     ],
     "language": "python",
     "metadata": {},
     "outputs": [
      {
       "output_type": "stream",
       "stream": "stdout",
       "text": [
        "2014-02-12 01:00:00\n",
        "<class 'pandas.core.frame.DataFrame'>\n",
        "DatetimeIndex: 7447 entries, 2014-02-14 14:00:00 to 2014-02-14 14:00:00\n",
        "Data columns (total 3 columns):\n",
        "tag         7447  non-null values\n",
        "value       7444  non-null values\n",
        "datetime    7447  non-null values\n",
        "dtypes: datetime64[ns](1), float64(1), object(1)\n"
       ]
      }
     ],
     "prompt_number": 2
    },
    {
     "cell_type": "code",
     "collapsed": false,
     "input": [
      "filenames = os.listdir(path)\n",
      "df = DataFrame()\n",
      "for fn in filenames:\n",
      "    print fn\n",
      "    dfi = read_file_to_dataframe(fn)\n",
      "    df = df.append(dfi)\n",
      "print df"
     ],
     "language": "python",
     "metadata": {},
     "outputs": [
      {
       "output_type": "stream",
       "stream": "stdout",
       "text": [
        "IN_OUT_140212_0000.dat\n",
        "IN_OUT_140212_0100.dat"
       ]
      },
      {
       "output_type": "stream",
       "stream": "stdout",
       "text": [
        "\n",
        "IN_OUT_140212_0200.dat\n",
        "IN_OUT_140212_0300.dat\n",
        "IN_OUT_140212_0400.dat"
       ]
      },
      {
       "output_type": "stream",
       "stream": "stdout",
       "text": [
        "\n",
        "IN_OUT_140212_0500.dat\n",
        "IN_OUT_140212_0600.dat\n",
        "IN_OUT_140212_0700.dat"
       ]
      },
      {
       "output_type": "stream",
       "stream": "stdout",
       "text": [
        "\n",
        "IN_OUT_140212_0800.dat\n",
        "IN_OUT_140212_0900.dat\n",
        "IN_OUT_140212_1000.dat"
       ]
      },
      {
       "output_type": "stream",
       "stream": "stdout",
       "text": [
        "\n",
        "IN_OUT_140212_1100.dat\n",
        "IN_OUT_140212_1200.dat\n",
        "IN_OUT_140212_1300.dat"
       ]
      },
      {
       "output_type": "stream",
       "stream": "stdout",
       "text": [
        "\n",
        "IN_OUT_140212_1400.dat\n",
        "IN_OUT_140212_1500.dat\n",
        "IN_OUT_140212_1600.dat"
       ]
      },
      {
       "output_type": "stream",
       "stream": "stdout",
       "text": [
        "\n",
        "IN_OUT_140212_1700.dat\n",
        "IN_OUT_140212_1800.dat"
       ]
      },
      {
       "output_type": "stream",
       "stream": "stdout",
       "text": [
        "\n",
        "IN_OUT_140212_1900.dat\n",
        "IN_OUT_140212_2000.dat"
       ]
      },
      {
       "output_type": "stream",
       "stream": "stdout",
       "text": [
        "\n",
        "IN_OUT_140212_2100.dat\n",
        "IN_OUT_140212_2200.dat"
       ]
      },
      {
       "output_type": "stream",
       "stream": "stdout",
       "text": [
        "\n",
        "IN_OUT_140212_2300.dat\n",
        "IN_OUT_140213_0000.dat"
       ]
      },
      {
       "output_type": "stream",
       "stream": "stdout",
       "text": [
        "\n",
        "IN_OUT_140213_0100.dat\n",
        "IN_OUT_140213_0200.dat"
       ]
      },
      {
       "output_type": "stream",
       "stream": "stdout",
       "text": [
        "\n",
        "IN_OUT_140213_0300.dat\n",
        "IN_OUT_140213_0400.dat"
       ]
      },
      {
       "output_type": "stream",
       "stream": "stdout",
       "text": [
        "\n",
        "IN_OUT_140213_0500.dat\n",
        "IN_OUT_140213_0600.dat"
       ]
      },
      {
       "output_type": "stream",
       "stream": "stdout",
       "text": [
        "\n",
        "IN_OUT_140213_0700.dat\n",
        "IN_OUT_140213_0800.dat"
       ]
      },
      {
       "output_type": "stream",
       "stream": "stdout",
       "text": [
        "\n",
        "IN_OUT_140213_0900.dat\n",
        "IN_OUT_140213_1000.dat"
       ]
      },
      {
       "output_type": "stream",
       "stream": "stdout",
       "text": [
        "\n",
        "IN_OUT_140213_1100.dat\n",
        "IN_OUT_140213_1200.dat"
       ]
      },
      {
       "output_type": "stream",
       "stream": "stdout",
       "text": [
        "\n",
        "IN_OUT_140213_1300.dat\n",
        "IN_OUT_140213_1400.dat"
       ]
      },
      {
       "output_type": "stream",
       "stream": "stdout",
       "text": [
        "\n",
        "IN_OUT_140213_1500.dat\n",
        "IN_OUT_140213_1600.dat"
       ]
      },
      {
       "output_type": "stream",
       "stream": "stdout",
       "text": [
        "\n",
        "IN_OUT_140213_1700.dat\n",
        "IN_OUT_140213_1800.dat"
       ]
      },
      {
       "output_type": "stream",
       "stream": "stdout",
       "text": [
        "\n",
        "IN_OUT_140213_1900.dat\n",
        "IN_OUT_140213_2000.dat"
       ]
      },
      {
       "output_type": "stream",
       "stream": "stdout",
       "text": [
        "\n",
        "IN_OUT_140213_2100.dat\n",
        "IN_OUT_140213_2200.dat"
       ]
      },
      {
       "output_type": "stream",
       "stream": "stdout",
       "text": [
        "\n",
        "IN_OUT_140213_2300.dat\n",
        "IN_OUT_140214_0000.dat"
       ]
      },
      {
       "output_type": "stream",
       "stream": "stdout",
       "text": [
        "\n",
        "IN_OUT_140214_0100.dat\n",
        "IN_OUT_140214_0200.dat"
       ]
      },
      {
       "output_type": "stream",
       "stream": "stdout",
       "text": [
        "\n",
        "IN_OUT_140214_0300.dat\n",
        "IN_OUT_140214_0400.dat"
       ]
      },
      {
       "output_type": "stream",
       "stream": "stdout",
       "text": [
        "\n",
        "IN_OUT_140214_0500.dat\n",
        "IN_OUT_140214_0600.dat"
       ]
      },
      {
       "output_type": "stream",
       "stream": "stdout",
       "text": [
        "\n",
        "IN_OUT_140214_0700.dat\n",
        "IN_OUT_140214_0800.dat"
       ]
      },
      {
       "output_type": "stream",
       "stream": "stdout",
       "text": [
        "\n",
        "IN_OUT_140214_0900.dat\n",
        "IN_OUT_140214_1000.dat"
       ]
      },
      {
       "output_type": "stream",
       "stream": "stdout",
       "text": [
        "\n",
        "IN_OUT_140214_1100.dat\n",
        "IN_OUT_140214_1200.dat"
       ]
      },
      {
       "output_type": "stream",
       "stream": "stdout",
       "text": [
        "\n",
        "IN_OUT_140214_1300.dat\n",
        "IN_OUT_140214_1400.dat"
       ]
      },
      {
       "output_type": "stream",
       "stream": "stdout",
       "text": [
        "\n",
        "IN_OUT_140214_1500.dat\n",
        "IN_OUT_140214_1600.dat"
       ]
      },
      {
       "output_type": "stream",
       "stream": "stdout",
       "text": [
        "\n",
        "IN_OUT_140214_1700.dat\n",
        "IN_OUT_140214_1800.dat"
       ]
      },
      {
       "output_type": "stream",
       "stream": "stdout",
       "text": [
        "\n",
        "IN_OUT_140214_1900.dat\n",
        "IN_OUT_140214_2000.dat"
       ]
      },
      {
       "output_type": "stream",
       "stream": "stdout",
       "text": [
        "\n",
        "IN_OUT_140214_2100.dat\n",
        "IN_OUT_140214_2200.dat"
       ]
      },
      {
       "output_type": "stream",
       "stream": "stdout",
       "text": [
        "\n",
        "IN_OUT_140214_2300.dat\n",
        "IN_OUT_140215_0000.dat"
       ]
      },
      {
       "output_type": "stream",
       "stream": "stdout",
       "text": [
        "\n",
        "IN_OUT_140215_0100.dat\n",
        "IN_OUT_140215_0200.dat"
       ]
      },
      {
       "output_type": "stream",
       "stream": "stdout",
       "text": [
        "\n",
        "IN_OUT_140215_0300.dat"
       ]
      },
      {
       "output_type": "stream",
       "stream": "stdout",
       "text": [
        "\n",
        "IN_OUT_140215_0400.dat\n",
        "IN_OUT_140215_0500.dat"
       ]
      },
      {
       "output_type": "stream",
       "stream": "stdout",
       "text": [
        "\n",
        "IN_OUT_140215_0600.dat"
       ]
      },
      {
       "output_type": "stream",
       "stream": "stdout",
       "text": [
        "\n",
        "IN_OUT_140215_0700.dat"
       ]
      },
      {
       "output_type": "stream",
       "stream": "stdout",
       "text": [
        "\n",
        "IN_OUT_140215_0800.dat"
       ]
      },
      {
       "output_type": "stream",
       "stream": "stdout",
       "text": [
        "\n",
        "IN_OUT_140215_0900.dat"
       ]
      },
      {
       "output_type": "stream",
       "stream": "stdout",
       "text": [
        "\n",
        "IN_OUT_140215_1000.dat"
       ]
      },
      {
       "output_type": "stream",
       "stream": "stdout",
       "text": [
        "\n",
        "IN_OUT_140215_1100.dat"
       ]
      },
      {
       "output_type": "stream",
       "stream": "stdout",
       "text": [
        "\n",
        "IN_OUT_140215_1200.dat"
       ]
      },
      {
       "output_type": "stream",
       "stream": "stdout",
       "text": [
        "\n",
        "IN_OUT_140215_1300.dat"
       ]
      },
      {
       "output_type": "stream",
       "stream": "stdout",
       "text": [
        "\n",
        "IN_OUT_140215_1400.dat"
       ]
      },
      {
       "output_type": "stream",
       "stream": "stdout",
       "text": [
        "\n",
        "IN_OUT_140215_1500.dat"
       ]
      },
      {
       "output_type": "stream",
       "stream": "stdout",
       "text": [
        "\n",
        "IN_OUT_140215_1600.dat"
       ]
      },
      {
       "output_type": "stream",
       "stream": "stdout",
       "text": [
        "\n",
        "IN_OUT_140215_1700.dat"
       ]
      },
      {
       "output_type": "stream",
       "stream": "stdout",
       "text": [
        "\n",
        "IN_OUT_140215_1800.dat"
       ]
      },
      {
       "output_type": "stream",
       "stream": "stdout",
       "text": [
        "\n",
        "IN_OUT_140215_1900.dat"
       ]
      },
      {
       "output_type": "stream",
       "stream": "stdout",
       "text": [
        "\n",
        "IN_OUT_140215_2000.dat"
       ]
      },
      {
       "output_type": "stream",
       "stream": "stdout",
       "text": [
        "\n",
        "IN_OUT_140215_2100.dat"
       ]
      },
      {
       "output_type": "stream",
       "stream": "stdout",
       "text": [
        "\n",
        "IN_OUT_140215_2200.dat"
       ]
      },
      {
       "output_type": "stream",
       "stream": "stdout",
       "text": [
        "\n",
        "IN_OUT_140215_2300.dat"
       ]
      },
      {
       "output_type": "stream",
       "stream": "stdout",
       "text": [
        "\n",
        "IN_OUT_140216_0000.dat"
       ]
      },
      {
       "output_type": "stream",
       "stream": "stdout",
       "text": [
        "\n",
        "IN_OUT_140216_0100.dat"
       ]
      },
      {
       "output_type": "stream",
       "stream": "stdout",
       "text": [
        "\n",
        "IN_OUT_140216_0200.dat"
       ]
      },
      {
       "output_type": "stream",
       "stream": "stdout",
       "text": [
        "\n",
        "IN_OUT_140216_0300.dat"
       ]
      },
      {
       "output_type": "stream",
       "stream": "stdout",
       "text": [
        "\n",
        "IN_OUT_140216_0400.dat"
       ]
      },
      {
       "output_type": "stream",
       "stream": "stdout",
       "text": [
        "\n",
        "IN_OUT_140216_0500.dat"
       ]
      },
      {
       "output_type": "stream",
       "stream": "stdout",
       "text": [
        "\n",
        "IN_OUT_140216_0600.dat"
       ]
      },
      {
       "output_type": "stream",
       "stream": "stdout",
       "text": [
        "\n",
        "IN_OUT_140216_0700.dat"
       ]
      },
      {
       "output_type": "stream",
       "stream": "stdout",
       "text": [
        "\n",
        "IN_OUT_140216_0800.dat"
       ]
      },
      {
       "output_type": "stream",
       "stream": "stdout",
       "text": [
        "\n",
        "IN_OUT_140216_0900.dat"
       ]
      },
      {
       "output_type": "stream",
       "stream": "stdout",
       "text": [
        "\n",
        "IN_OUT_140216_1000.dat"
       ]
      },
      {
       "output_type": "stream",
       "stream": "stdout",
       "text": [
        "\n",
        "IN_OUT_140216_1100.dat"
       ]
      },
      {
       "output_type": "stream",
       "stream": "stdout",
       "text": [
        "\n",
        "IN_OUT_140216_1200.dat"
       ]
      },
      {
       "output_type": "stream",
       "stream": "stdout",
       "text": [
        "\n",
        "IN_OUT_140216_1300.dat"
       ]
      },
      {
       "output_type": "stream",
       "stream": "stdout",
       "text": [
        "\n",
        "IN_OUT_140216_1400.dat"
       ]
      },
      {
       "output_type": "stream",
       "stream": "stdout",
       "text": [
        "\n",
        "IN_OUT_140216_1500.dat"
       ]
      },
      {
       "output_type": "stream",
       "stream": "stdout",
       "text": [
        "\n",
        "IN_OUT_140216_1600.dat"
       ]
      },
      {
       "output_type": "stream",
       "stream": "stdout",
       "text": [
        "\n",
        "IN_OUT_140216_1700.dat"
       ]
      },
      {
       "output_type": "stream",
       "stream": "stdout",
       "text": [
        "\n",
        "IN_OUT_140216_1800.dat"
       ]
      },
      {
       "output_type": "stream",
       "stream": "stdout",
       "text": [
        "\n",
        "IN_OUT_140216_1900.dat"
       ]
      },
      {
       "output_type": "stream",
       "stream": "stdout",
       "text": [
        "\n",
        "IN_OUT_140216_2000.dat"
       ]
      },
      {
       "output_type": "stream",
       "stream": "stdout",
       "text": [
        "\n",
        "IN_OUT_140216_2100.dat"
       ]
      },
      {
       "output_type": "stream",
       "stream": "stdout",
       "text": [
        "\n",
        "IN_OUT_140216_2200.dat"
       ]
      },
      {
       "output_type": "stream",
       "stream": "stdout",
       "text": [
        "\n",
        "IN_OUT_140216_2300.dat"
       ]
      },
      {
       "output_type": "stream",
       "stream": "stdout",
       "text": [
        "\n",
        "IN_OUT_140217_0000.dat"
       ]
      },
      {
       "output_type": "stream",
       "stream": "stdout",
       "text": [
        "\n",
        "IN_OUT_140217_0100.dat"
       ]
      },
      {
       "output_type": "stream",
       "stream": "stdout",
       "text": [
        "\n",
        "IN_OUT_140217_0200.dat"
       ]
      },
      {
       "output_type": "stream",
       "stream": "stdout",
       "text": [
        "\n",
        "IN_OUT_140217_0300.dat"
       ]
      },
      {
       "output_type": "stream",
       "stream": "stdout",
       "text": [
        "\n",
        "IN_OUT_140217_0400.dat"
       ]
      },
      {
       "output_type": "stream",
       "stream": "stdout",
       "text": [
        "\n",
        "IN_OUT_140217_0500.dat"
       ]
      },
      {
       "output_type": "stream",
       "stream": "stdout",
       "text": [
        "\n",
        "IN_OUT_140217_0600.dat"
       ]
      },
      {
       "output_type": "stream",
       "stream": "stdout",
       "text": [
        "\n",
        "IN_OUT_140217_0700.dat"
       ]
      },
      {
       "output_type": "stream",
       "stream": "stdout",
       "text": [
        "\n",
        "IN_OUT_140217_0800.dat"
       ]
      },
      {
       "output_type": "stream",
       "stream": "stdout",
       "text": [
        "\n",
        "IN_OUT_140217_0900.dat"
       ]
      },
      {
       "output_type": "stream",
       "stream": "stdout",
       "text": [
        "\n",
        "IN_OUT_140217_1000.dat"
       ]
      },
      {
       "output_type": "stream",
       "stream": "stdout",
       "text": [
        "\n",
        "IN_OUT_140217_1100.dat"
       ]
      },
      {
       "output_type": "stream",
       "stream": "stdout",
       "text": [
        "\n",
        "IN_OUT_140217_1200.dat"
       ]
      },
      {
       "output_type": "stream",
       "stream": "stdout",
       "text": [
        "\n",
        "IN_OUT_140217_1300.dat"
       ]
      },
      {
       "output_type": "stream",
       "stream": "stdout",
       "text": [
        "\n",
        "IN_OUT_140217_1400.dat"
       ]
      },
      {
       "output_type": "stream",
       "stream": "stdout",
       "text": [
        "\n",
        "IN_OUT_140217_1500.dat"
       ]
      },
      {
       "output_type": "stream",
       "stream": "stdout",
       "text": [
        "\n",
        "IN_OUT_140217_1600.dat"
       ]
      },
      {
       "output_type": "stream",
       "stream": "stdout",
       "text": [
        "\n",
        "IN_OUT_140217_1700.dat"
       ]
      },
      {
       "output_type": "stream",
       "stream": "stdout",
       "text": [
        "\n",
        "IN_OUT_140217_1800.dat"
       ]
      },
      {
       "output_type": "stream",
       "stream": "stdout",
       "text": [
        "\n",
        "IN_OUT_140217_1900.dat"
       ]
      },
      {
       "output_type": "stream",
       "stream": "stdout",
       "text": [
        "\n",
        "IN_OUT_140217_2000.dat"
       ]
      },
      {
       "output_type": "stream",
       "stream": "stdout",
       "text": [
        "\n",
        "IN_OUT_140217_2100.dat"
       ]
      },
      {
       "output_type": "stream",
       "stream": "stdout",
       "text": [
        "\n",
        "IN_OUT_140217_2200.dat"
       ]
      },
      {
       "output_type": "stream",
       "stream": "stdout",
       "text": [
        "\n",
        "IN_OUT_140217_2300.dat"
       ]
      },
      {
       "output_type": "stream",
       "stream": "stdout",
       "text": [
        "\n",
        "IN_OUT_140218_0000.dat"
       ]
      },
      {
       "output_type": "stream",
       "stream": "stdout",
       "text": [
        "\n",
        "IN_OUT_140218_0100.dat"
       ]
      },
      {
       "output_type": "stream",
       "stream": "stdout",
       "text": [
        "\n",
        "IN_OUT_140218_0200.dat"
       ]
      },
      {
       "output_type": "stream",
       "stream": "stdout",
       "text": [
        "\n",
        "IN_OUT_140218_0300.dat"
       ]
      },
      {
       "output_type": "stream",
       "stream": "stdout",
       "text": [
        "\n",
        "IN_OUT_140218_0400.dat"
       ]
      },
      {
       "output_type": "stream",
       "stream": "stdout",
       "text": [
        "\n",
        "IN_OUT_140218_0500.dat"
       ]
      },
      {
       "output_type": "stream",
       "stream": "stdout",
       "text": [
        "\n",
        "IN_OUT_140218_0600.dat"
       ]
      },
      {
       "output_type": "stream",
       "stream": "stdout",
       "text": [
        "\n",
        "IN_OUT_140218_0700.dat"
       ]
      },
      {
       "output_type": "stream",
       "stream": "stdout",
       "text": [
        "\n",
        "IN_OUT_140218_0800.dat"
       ]
      },
      {
       "output_type": "stream",
       "stream": "stdout",
       "text": [
        "\n",
        "IN_OUT_140218_0900.dat"
       ]
      },
      {
       "output_type": "stream",
       "stream": "stdout",
       "text": [
        "\n",
        "IN_OUT_140218_1000.dat"
       ]
      },
      {
       "output_type": "stream",
       "stream": "stdout",
       "text": [
        "\n",
        "IN_OUT_140218_1100.dat"
       ]
      },
      {
       "output_type": "stream",
       "stream": "stdout",
       "text": [
        "\n",
        "IN_OUT_140218_1200.dat"
       ]
      },
      {
       "output_type": "stream",
       "stream": "stdout",
       "text": [
        "\n",
        "IN_OUT_140218_1300.dat"
       ]
      },
      {
       "output_type": "stream",
       "stream": "stdout",
       "text": [
        "\n",
        "IN_OUT_140218_1400.dat"
       ]
      },
      {
       "output_type": "stream",
       "stream": "stdout",
       "text": [
        "\n",
        "IN_OUT_140218_1500.dat"
       ]
      },
      {
       "output_type": "stream",
       "stream": "stdout",
       "text": [
        "\n",
        "IN_OUT_140218_1600.dat"
       ]
      },
      {
       "output_type": "stream",
       "stream": "stdout",
       "text": [
        "\n",
        "IN_OUT_140218_1700.dat"
       ]
      },
      {
       "output_type": "stream",
       "stream": "stdout",
       "text": [
        "\n",
        "IN_OUT_140218_1800.dat"
       ]
      },
      {
       "output_type": "stream",
       "stream": "stdout",
       "text": [
        "\n",
        "IN_OUT_140218_1900.dat"
       ]
      },
      {
       "output_type": "stream",
       "stream": "stdout",
       "text": [
        "\n",
        "IN_OUT_140218_2000.dat"
       ]
      },
      {
       "output_type": "stream",
       "stream": "stdout",
       "text": [
        "\n",
        "IN_OUT_140218_2100.dat"
       ]
      },
      {
       "output_type": "stream",
       "stream": "stdout",
       "text": [
        "\n",
        "IN_OUT_140218_2200.dat"
       ]
      },
      {
       "output_type": "stream",
       "stream": "stdout",
       "text": [
        "\n",
        "IN_OUT_140218_2300.dat"
       ]
      },
      {
       "output_type": "stream",
       "stream": "stdout",
       "text": [
        "\n",
        "IN_OUT_140219_0000.dat"
       ]
      },
      {
       "output_type": "stream",
       "stream": "stdout",
       "text": [
        "\n",
        "IN_OUT_140219_0100.dat"
       ]
      },
      {
       "output_type": "stream",
       "stream": "stdout",
       "text": [
        "\n",
        "IN_OUT_140219_0200.dat"
       ]
      },
      {
       "output_type": "stream",
       "stream": "stdout",
       "text": [
        "\n",
        "IN_OUT_140219_0300.dat"
       ]
      },
      {
       "output_type": "stream",
       "stream": "stdout",
       "text": [
        "\n",
        "IN_OUT_140219_0400.dat"
       ]
      },
      {
       "output_type": "stream",
       "stream": "stdout",
       "text": [
        "\n",
        "IN_OUT_140219_0500.dat"
       ]
      },
      {
       "output_type": "stream",
       "stream": "stdout",
       "text": [
        "\n",
        "IN_OUT_140219_0600.dat"
       ]
      },
      {
       "output_type": "stream",
       "stream": "stdout",
       "text": [
        "\n",
        "IN_OUT_140219_0700.dat"
       ]
      },
      {
       "output_type": "stream",
       "stream": "stdout",
       "text": [
        "\n",
        "IN_OUT_140219_0800.dat"
       ]
      },
      {
       "output_type": "stream",
       "stream": "stdout",
       "text": [
        "\n",
        "IN_OUT_140219_0900.dat"
       ]
      },
      {
       "output_type": "stream",
       "stream": "stdout",
       "text": [
        "\n",
        "IN_OUT_140219_1000.dat"
       ]
      },
      {
       "output_type": "stream",
       "stream": "stdout",
       "text": [
        "\n",
        "IN_OUT_140219_1100.dat"
       ]
      },
      {
       "output_type": "stream",
       "stream": "stdout",
       "text": [
        "\n",
        "IN_OUT_140219_1200.dat"
       ]
      },
      {
       "output_type": "stream",
       "stream": "stdout",
       "text": [
        "\n",
        "IN_OUT_140219_1300.dat"
       ]
      },
      {
       "output_type": "stream",
       "stream": "stdout",
       "text": [
        "\n",
        "IN_OUT_140219_1400.dat"
       ]
      },
      {
       "output_type": "stream",
       "stream": "stdout",
       "text": [
        "\n",
        "IN_OUT_140219_1500.dat"
       ]
      },
      {
       "output_type": "stream",
       "stream": "stdout",
       "text": [
        "\n",
        "IN_OUT_140219_1600.dat"
       ]
      },
      {
       "output_type": "stream",
       "stream": "stdout",
       "text": [
        "\n",
        "IN_OUT_140219_1700.dat"
       ]
      },
      {
       "output_type": "stream",
       "stream": "stdout",
       "text": [
        "\n",
        "IN_OUT_140219_1800.dat"
       ]
      },
      {
       "output_type": "stream",
       "stream": "stdout",
       "text": [
        "\n",
        "IN_OUT_140219_1900.dat"
       ]
      },
      {
       "output_type": "stream",
       "stream": "stdout",
       "text": [
        "\n",
        "IN_OUT_140219_2000.dat"
       ]
      },
      {
       "output_type": "stream",
       "stream": "stdout",
       "text": [
        "\n",
        "IN_OUT_140219_2100.dat"
       ]
      },
      {
       "output_type": "stream",
       "stream": "stdout",
       "text": [
        "\n",
        "IN_OUT_140219_2200.dat"
       ]
      },
      {
       "output_type": "stream",
       "stream": "stdout",
       "text": [
        "\n",
        "IN_OUT_140219_2300.dat"
       ]
      },
      {
       "output_type": "stream",
       "stream": "stdout",
       "text": [
        "\n",
        "IN_OUT_140220_0000.dat"
       ]
      },
      {
       "output_type": "stream",
       "stream": "stdout",
       "text": [
        "\n",
        "IN_OUT_140220_0100.dat"
       ]
      },
      {
       "output_type": "stream",
       "stream": "stdout",
       "text": [
        "\n",
        "IN_OUT_140220_0200.dat"
       ]
      },
      {
       "output_type": "stream",
       "stream": "stdout",
       "text": [
        "\n",
        "IN_OUT_140220_0300.dat"
       ]
      },
      {
       "output_type": "stream",
       "stream": "stdout",
       "text": [
        "\n",
        "IN_OUT_140220_0400.dat"
       ]
      },
      {
       "output_type": "stream",
       "stream": "stdout",
       "text": [
        "\n",
        "IN_OUT_140220_0500.dat"
       ]
      },
      {
       "output_type": "stream",
       "stream": "stdout",
       "text": [
        "\n",
        "IN_OUT_140220_0600.dat"
       ]
      },
      {
       "output_type": "stream",
       "stream": "stdout",
       "text": [
        "\n",
        "IN_OUT_140220_0700.dat"
       ]
      },
      {
       "output_type": "stream",
       "stream": "stdout",
       "text": [
        "\n",
        "IN_OUT_140220_0800.dat"
       ]
      },
      {
       "output_type": "stream",
       "stream": "stdout",
       "text": [
        "\n",
        "IN_OUT_140220_0900.dat"
       ]
      },
      {
       "output_type": "stream",
       "stream": "stdout",
       "text": [
        "\n",
        "IN_OUT_140220_1000.dat"
       ]
      },
      {
       "output_type": "stream",
       "stream": "stdout",
       "text": [
        "\n",
        "IN_OUT_140220_1100.dat"
       ]
      },
      {
       "output_type": "stream",
       "stream": "stdout",
       "text": [
        "\n",
        "IN_OUT_140220_1200.dat"
       ]
      },
      {
       "output_type": "stream",
       "stream": "stdout",
       "text": [
        "\n",
        "IN_OUT_140220_1300.dat"
       ]
      },
      {
       "output_type": "stream",
       "stream": "stdout",
       "text": [
        "\n",
        "IN_OUT_140220_1400.dat"
       ]
      },
      {
       "output_type": "stream",
       "stream": "stdout",
       "text": [
        "\n",
        "IN_OUT_140220_1500.dat"
       ]
      },
      {
       "output_type": "stream",
       "stream": "stdout",
       "text": [
        "\n",
        "IN_OUT_140220_1600.dat"
       ]
      },
      {
       "output_type": "stream",
       "stream": "stdout",
       "text": [
        "\n",
        "IN_OUT_140220_1700.dat"
       ]
      },
      {
       "output_type": "stream",
       "stream": "stdout",
       "text": [
        "\n",
        "IN_OUT_140220_1800.dat"
       ]
      },
      {
       "output_type": "stream",
       "stream": "stdout",
       "text": [
        "\n",
        "IN_OUT_140220_1900.dat"
       ]
      },
      {
       "output_type": "stream",
       "stream": "stdout",
       "text": [
        "\n",
        "IN_OUT_140220_2000.dat"
       ]
      },
      {
       "output_type": "stream",
       "stream": "stdout",
       "text": [
        "\n",
        "IN_OUT_140220_2100.dat"
       ]
      },
      {
       "output_type": "stream",
       "stream": "stdout",
       "text": [
        "\n",
        "IN_OUT_140220_2200.dat"
       ]
      },
      {
       "output_type": "stream",
       "stream": "stdout",
       "text": [
        "\n",
        "IN_OUT_140220_2300.dat"
       ]
      },
      {
       "output_type": "stream",
       "stream": "stdout",
       "text": [
        "\n",
        "<class 'pandas.core.frame.DataFrame'>\n",
        "DatetimeIndex: 1625569 entries, 2014-02-12 00:00:00 to 2014-02-20 23:00:00\n",
        "Data columns (total 3 columns):\n",
        "datetime    1625569  non-null values\n",
        "tag         1625569  non-null values\n",
        "value       1625077  non-null values\n",
        "dtypes: datetime64[ns](1), float64(1), object(1)"
       ]
      },
      {
       "output_type": "stream",
       "stream": "stdout",
       "text": [
        "\n"
       ]
      }
     ],
     "prompt_number": 3
    },
    {
     "cell_type": "code",
     "collapsed": false,
     "input": [
      "df[df.tag=='TR1MG2.Pout.h2'].plot()\n",
      "df[df.tag=='TR1MG3.Pout.h2'].plot()"
     ],
     "language": "python",
     "metadata": {},
     "outputs": [
      {
       "metadata": {},
       "output_type": "pyout",
       "prompt_number": 78,
       "text": [
        "<matplotlib.axes.AxesSubplot at 0x11b593c8>"
       ]
      },
      {
       "metadata": {},
       "output_type": "display_data",
       "png": "[encoded data removed]",
       "text": [
        "<matplotlib.figure.Figure at 0x11b6e6d8>"
       ]
      },
      {
       "metadata": {},
       "output_type": "display_data",
       "png": "[encoded data removed]",
       "text": [
        "<matplotlib.figure.Figure at 0x11b5ea90>"
       ]
      }
     ],
     "prompt_number": 78
    },
    {
     "cell_type": "code",
     "collapsed": false,
     "input": [
      "df_filter = df[df.tag=='TR1MG2.Pout.h2']\n",
      "df_filter.groupby(['value']).min().head(1)"
     ],
     "language": "python",
     "metadata": {},
     "outputs": [
      {
       "html": [
        "<div style=\"max-height:1000px;max-width:1500px;overflow:auto;\">\n",
        "<table border=\"1\" class=\"dataframe\">\n",
        "  <thead>\n",
        "    <tr style=\"text-align: right;\">\n",
        "      <th></th>\n",
        "      <th>datetime</th>\n",
        "      <th>tag</th>\n",
        "    </tr>\n",
        "    <tr>\n",
        "      <th>value</th>\n",
        "      <th></th>\n",
        "      <th></th>\n",
        "    </tr>\n",
        "  </thead>\n",
        "  <tbody>\n",
        "    <tr>\n",
        "      <th>0</th>\n",
        "      <td>2014-02-19 12:00:00</td>\n",
        "      <td> TR1MG2.Pout.h2</td>\n",
        "    </tr>\n",
        "  </tbody>\n",
        "</table>\n",
        "</div>"
       ],
       "metadata": {},
       "output_type": "pyout",
       "prompt_number": 5,
       "text": [
        "                 datetime             tag\n",
        "value                                    \n",
        "0     2014-02-19 12:00:00  TR1MG2.Pout.h2"
       ]
      }
     ],
     "prompt_number": 5
    },
    {
     "cell_type": "code",
     "collapsed": false,
     "input": [
      "df[(df.datetime==to_datetime('2014-02-19 12:00:00')) & (df.tag=='TR1MG2.Pout.h2')]=df[(df.datetime==to_datetime('2014-02-19 11:00:00')) & (df.tag=='TR1MG2.Pout.h2')]"
     ],
     "language": "python",
     "metadata": {},
     "outputs": [],
     "prompt_number": 8
    },
    {
     "cell_type": "code",
     "collapsed": false,
     "input": [
      "def value_by_tag(filtered_df, tag):\n",
      "    return filtered_df[filtered_df.tag==tag].iloc[0]['value']\n",
      "\n",
      "def print_datetime_report(datetime, df):\n",
      "    df = df[df.datetime == to_datetime(datetime)]\n",
      "    print \"\u0412\u0445\u043e\u0434 \u0421\u0415\u0413-1, P = {0}, Q = {1}, T = {2}\".format(\n",
      "        value_by_tag(df, 'TR1MG2.Pout.h2'), \n",
      "        value_by_tag(df, 'TR1MG2.Qout.h2'), \n",
      "        value_by_tag(df, 'TR1MG2.Tout.h2')\n",
      "    )\n",
      "    print \"\u0412\u0445\u043e\u0434 \u0421\u0415\u0413-2, P = {0}, Q = {1}, T = {2}\".format(\n",
      "        value_by_tag(df, 'TR1MG3.Pout.h2'), \n",
      "        value_by_tag(df, 'TR1MG3.Qout.h2'), \n",
      "        value_by_tag(df, 'TR1MG3.Tout.h2')\n",
      "    )\n",
      "    \n",
      "print_datetime_report('2014-02-14 14:00:00', df)"
     ],
     "language": "python",
     "metadata": {},
     "outputs": [
      {
       "output_type": "stream",
       "stream": "stdout",
       "text": [
        "\u0412\u0445\u043e\u0434 \u0421\u0415\u0413-1, P = 86.01, Q = 3075.35, T = 29.49\n",
        "\u0412\u0445\u043e\u0434 \u0421\u0415\u0413-2, P = 86.0, Q = 2148.0, T = 29.0\n"
       ]
      }
     ],
     "prompt_number": 77
    },
    {
     "cell_type": "code",
     "collapsed": false,
     "input": [
      "\u041f\u0440\u043e\u0432\u0435\u0440\u0438\u0442\u044c \u0434\u0430\u043d\u043d\u044b\u0435 PSI, \u0441\u0440\u0430\u0432\u043d\u0438\u0442\u044c \u0441 \u041e\u041f\u042d\u0422\u0418\n",
      "\u041d\u0430\u0439\u0442\u0438 \u0443\u0447\u0430\u0441\u0442\u043a\u0438 \u0441\u0442\u0430\u0446\u0438\u043e\u043d\u0430\u0440\u043d\u043e\u0441\u0442\u0438. \u041f\u043e\u0441\u043c\u043e\u0442\u0440\u0435\u0442\u044c \u043f\u043e \u0440\u0430\u0441\u0445\u043e\u0434\u0430\u043c \u0432\u0445\u043e\u0434\u0430/\u0432\u044b\u0445\u043e\u0434\u0430\n",
      "\u0421\u043f\u0440\u043e\u0441\u0438\u0442\u044c \u0421\u0430\u0440\u0434\u0430\u043d\u0430\u0448\u0432\u0438\u043b\u0438 \u0438 \u041c\u0421\u041a \u043e\u0431 \u0438\u0434\u0435\u043d\u0442\u0438\u0444\u0438\u043a\u0430\u0446\u0438\u0438 \u0441\u0442\u0430\u0446\u0438\u043e\u043d\u0430\u0440\u043d\u043e\u0441\u0442\u0438, \u0447\u0442\u043e \u043f\u043e\u0447\u0438\u0442\u0430\u0442\u044c?"
     ],
     "language": "python",
     "metadata": {},
     "outputs": []
    }
   ],
   "metadata": {}
  }
 ]
}