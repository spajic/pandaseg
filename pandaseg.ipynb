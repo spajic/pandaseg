{
 "metadata": {
  "name": "pandaseg.ipynb"
 },
 "nbformat": 3,
 "nbformat_minor": 0,
 "worksheets": [
  {
   "cells": [
    {
     "cell_type": "code",
     "collapsed": false,
     "input": [
      "import pandas as pd\n",
      "from pandas import read_csv\n",
      "from pandas import DataFrame\n",
      "from pandas import to_datetime\n",
      "import os\n",
      "from os.path import isfile, join"
     ],
     "language": "python",
     "metadata": {},
     "outputs": []
    },
    {
     "cell_type": "code",
     "collapsed": false,
     "input": [
      "def get_datetime_from_filename(filename):\n",
      "    datestring = filename[7:13]\n",
      "    year = \"20\" + datestring[0:2]\n",
      "    month = datestring[2:4]\n",
      "    day = datestring[4:6]\n",
      "    timestring = filename[14:18]\n",
      "    hour = timestring[0:2]\n",
      "    minute = timestring[2:4]\n",
      "    # example: to_datetime('2014-02-14 13:00:00')\n",
      "    result = to_datetime(\"{0}-{1}-{2} {3}:{4}:00\".format(year, month, day, hour, minute))\n",
      "    return result\n",
      "\n",
      "print get_datetime_from_filename(\"IN_OUT_140212_0100.dat\")\n",
      "\n",
      "def read_file_to_dataframe(path, filename, enc):\n",
      "    df = read_csv(path + filename, \"\\t\", usecols=[0,1], names=[\"tag\", \"value\"], header=None, encoding=enc)\n",
      "    df['datetime'] = get_datetime_from_filename(filename)\n",
      "    df['datetimeindex'] = get_datetime_from_filename(filename)\n",
      "    df = df.set_index('datetimeindex')\n",
      "    #df['value'] = df['value'].astype(float)\n",
      "    return df"
     ],
     "language": "python",
     "metadata": {},
     "outputs": []
    },
    {
     "cell_type": "code",
     "collapsed": false,
     "input": [
      "def load_dir_to_df(path, encoding):\n",
      "    filenames = [ f for f in os.listdir(path) if isfile(join(path,f)) ]\n",
      "    df = DataFrame()\n",
      "    for fn in filenames:\n",
      "        print fn\n",
      "        dfi = read_file_to_dataframe(path, fn, encoding)\n",
      "        df = df.append(dfi)\n",
      "    print df\n",
      "    return df\n",
      "\n",
      "path_opeti = \"C:\\\\Pandas\\\\\"\n",
      "path_psi = \"C:\\\\Pandas\\\\PSI\\\\\"\n",
      "df_opeti = load_dir_to_df(path_opeti, 'cp1251')\n",
      "df_psi = load_dir_to_df(path_psi, 'utf-8')"
     ],
     "language": "python",
     "metadata": {},
     "outputs": []
    },
    {
     "cell_type": "code",
     "collapsed": false,
     "input": [
      "df_SEG1_P = df[df.tag=='TR1MG2.Pout.h2']\n",
      "# \u0423\u0434\u0430\u043b\u044f\u0435\u043c \u0438\u0437\u0432\u0435\u0441\u0442\u043d\u044b\u0439 \u0432\u044b\u0431\u0440\u043e\u0441\n",
      "df_SEG1_P[(df_SEG1_P.datetime==to_datetime('2014-02-19 12:00:00'))]=df_SEG1_P[(df_SEG1_P.datetime==to_datetime('2014-02-19 11:00:00'))]\n",
      "df_SEG2_P = df[df.tag=='TR1MG3.Pout.h2']\n",
      "df_SEG2_P.columns = ['datetime_seg2', 'tag_seg2', 'value_seg2']\n",
      "res = df_SEG1_P.join(df_SEG2_P)\n",
      "res['diff'] = abs(res['value_seg2']-res['value'])\n",
      "print res\n",
      "# \u0417\u0430\u0434\u0430\u0447\u0430: \u043f\u043e\u0441\u0442\u0440\u043e\u0438\u0442\u044c \u044d\u0442\u0438 \u0434\u0432\u0430 df \u043d\u0430 \u043e\u0434\u043d\u043e\u043c \u0445\u043e\u043b\u0441\u0442\u0435, \u0430 \u0442\u0430\u043a \u0436\u0435 \u0433\u0440\u0430\u0444\u0438\u043a \u0438\u0445 \u0440\u0430\u0437\u043d\u043e\u0441\u0442\u0438 \u0432 \u0434\u0440\u0443\u0433\u043e\u0439 \u0448\u043a\u0430\u043b\u0435\n",
      "res.plot(secondary_y=['diff'])\n",
      "#res.value.plot()\n",
      "#res.valuepsi.plot()"
     ],
     "language": "python",
     "metadata": {},
     "outputs": []
    },
    {
     "cell_type": "code",
     "collapsed": false,
     "input": [
      "def vbt(filtered_df, tag): # value by tag\n",
      "    try:\n",
      "        return filtered_df[filtered_df.tag==tag].iloc[0]['value']\n",
      "    except IndexError:\n",
      "        return float('NaN')\n",
      "\n",
      "def print_report_row(row):\n",
      "    if row[0] == 'empty':\n",
      "        print \"\"\n",
      "        return\n",
      "    print u\"{0}.{1}: {2}={3}, {4}={5}, |diff|={6}\".format(\n",
      "        row[0], row[1], row[2], row[3], row[4], row[5], row[6])\n",
      "\n",
      "def calculate_difference_for_report(report):\n",
      "    for row in report:\n",
      "        if row[0] == 'empty':\n",
      "            continue\n",
      "        row.append( abs(row[5]-row[3]) ) # abs(PSI - \u041e\u041f\u042d\u0422\u0418)\n",
      "        \n",
      "def print_report_rows(report):\n",
      "    for row in report:        \n",
      "        print_report_row(row)\n",
      "        \n",
      "def fill_tag_values_for_report(report, df_opeti, df_psi):\n",
      "    for row in report:\n",
      "        if row[0] == 'empty':\n",
      "            continue  \n",
      "        row.insert(3, vbt(df_opeti, row[2]))\n",
      "        row.append(vbt(df_psi, row[4]))        \n",
      "\n",
      "def print_datetime_report(datetime, df_opeti, df_psi):\n",
      "    df_o = df_opeti[df_opeti.datetime == to_datetime(datetime)]\n",
      "    df_p = df_psi[df_psi.datetime == to_datetime(datetime)]\n",
      "    # \u0421\u0444\u043e\u0440\u043c\u0438\u0440\u0443\u044e \u043e\u0442\u0447\u0451\u0442 \u0432 \u0432\u0438\u0434\u0435 \u0442\u0430\u0431\u043b\u0438\u0447\u043a\u0438 \u0432\u0438\u0434\u0430\n",
      "    # |\u041e\u0431\u044a\u0435\u043a\u0442 \u043f\u043e \u0440\u0443\u0441\u0441\u043a\u0438| \u0418\u043c\u044f \u043f\u0430\u0440\u0430\u043c\u0435\u0442\u0440\u0430 | \u0422\u0435\u0433 \u041e\u041f\u042d\u0422\u0418 | \u0417\u043d\u0430\u0447\u0435\u043d\u0438\u0435 \u041e\u041f\u042d\u0422\u0418 | \u0422\u0415\u0413 PSI | \u0417\u043d\u0430\u0447\u0435\u043d\u0438\u0435 PSI | abs(\u041e\u041f\u042d\u0422\u0418-PSI) |\n",
      "    report = []\n",
      "    report.append([u'\u0412\u0445\u043e\u0434 \u0421\u0415\u0413-1', 'P', u'TR1MG2.Pout.h2', u'T09.UT05.SLTM.GIS_B.P'])\n",
      "    report.append([u'\u0412\u0445\u043e\u0434 \u0421\u0415\u0413-1', 'Q', u'TR1MG2.Qout.h2', u'T09.UT05.SLTM.GIS_B.Q'])\n",
      "    report.append([u'\u0412\u0445\u043e\u0434 \u0421\u0415\u0413-1', 'T', u'TR1MG2.Pout.h2', u'T09.UT05.SLTM.GIS_B.T'])\n",
      "    report.append([u'empty'])\n",
      "    report.append([u'\u0412\u0445\u043e\u0434 \u0421\u0415\u0413-2', 'P', u'TR1MG3.Pout.h2', u'T09.UT05.SLTM.GIS_B2.P'])\n",
      "    report.append([u'\u0412\u0445\u043e\u0434 \u0421\u0415\u0413-2', 'Q', u'TR1MG3.Qout.h2', u'T09.UT05.SLTM.GIS_B2.Q'])\n",
      "    report.append([u'\u0412\u0445\u043e\u0434 \u0421\u0415\u0413-2', 'T', u'TR1MG3.Pout.h2', u'T09.UT05.SLTM.GIS_B2.T'])\n",
      "    report.append([u'empty'])\n",
      "    report.append([u'\u041a\u0440\u0430\u043d \u0420\u0414 385', 'Pin', u'L05S01C03Y031.385.\u041a\u0420.0.Pin.h2', u'T09.UT05.SLTM.KP104.V385\u041a\u0420.Pin'])\n",
      "    report.append([u'\u041a\u0440\u0430\u043d \u0420\u0414 385', 'Q', u'TR3G01.Q.h2', u'T09.UT05.SLTM.KP104.GIS.Q'])\n",
      "    report.append([u'empty'])\n",
      "    report.append([u'\u041f\u0438\u043a\u0430\u043b\u0451\u0432\u043e \u041a\u04261', 'Pin', u'L05S01C03.Pin.h2', u'T09.UT05.KS.LIS.KC3.Pin'])\n",
      "    report.append([u'\u041f\u0438\u043a\u0430\u043b\u0451\u0432\u043e \u041a\u04261', 'Pout', u'L05S01C03.Pout.h2', u'T09.UT05.KS.LIS.KC3.Pout'])\n",
      "    report.append([u'\u041f\u0438\u043a\u0430\u043b\u0451\u0432\u043e \u041a\u04261', 'Tin', u'L05S01C03.Tin.h2', u'T09.UT05.KS.LIS.KC3.Tin'])\n",
      "    report.append([u'\u041f\u0438\u043a\u0430\u043b\u0451\u0432\u043e \u041a\u04261', 'Tout', u'L05S01C03.Tout.h2', u'T09.UT05.KS.LIS.KC3.Tout'])\n",
      "    report.append([u'\u041f\u0438\u043a\u0430\u043b\u0451\u0432\u043e \u041a\u04261', 'Patm', u'L05S01C03.Patm.h2', u'T09.UT05.KS.LIS.KC3.Patm'])\n",
      "    report.append([u'\u041f\u0438\u043a\u0430\u043b\u0451\u0432\u043e \u041a\u04261', 'Patm', u'L05S01C03.Tatm.h2', u'T09.UT05.KS.LIS.KC3.Tatm'])\n",
      "    report.append([u'\u041f\u0438\u043a\u0430\u043b\u0451\u0432\u043e \u041a\u04261 - \u0413\u041f\u04101', 'Mode', u'L05S01C03A01.Mode.h2', u'T09.UT05.KS.GPA31.Mode'])\n",
      "    report.append([u'\u041f\u0438\u043a\u0430\u043b\u0451\u0432\u043e \u041a\u04261 - \u0413\u041f\u04101', 'N', u'L05S01C03A01.Nav.h2', u'T09.UT05.KS.GPA31.N'])\n",
      "    \n",
      "    \n",
      "    fill_tag_values_for_report(report, df_o, df_p)\n",
      "    calculate_difference_for_report(report)\n",
      "    print_report_rows(report)\n",
      "        \n",
      "print_datetime_report('2014-02-14 14:00:00', df_opeti, df_psi)"
     ],
     "language": "python",
     "metadata": {},
     "outputs": [
      {
       "output_type": "stream",
       "stream": "stdout",
       "text": [
        "\u0412\u0445\u043e\u0434 \u0421\u0415\u0413-1.P: TR1MG2.Pout.h2=86.01, T09.UT05.SLTM.GIS_B.P=86.69, |diff|=0.68\n",
        "\u0412\u0445\u043e\u0434 \u0421\u0415\u0413-1.Q: TR1MG2.Qout.h2=3075.35, T09.UT05.SLTM.GIS_B.Q=3118.38, |diff|=43.03\n",
        "\u0412\u0445\u043e\u0434 \u0421\u0415\u0413-1.T: TR1MG2.Pout.h2=86.01, T09.UT05.SLTM.GIS_B.T=29.33, |diff|=56.68\n",
        "\n",
        "\u0412\u0445\u043e\u0434 \u0421\u0415\u0413-2.P: TR1MG3.Pout.h2=86.0, T09.UT05.SLTM.GIS_B2.P=86.6, |diff|=0.6\n",
        "\u0412\u0445\u043e\u0434 \u0421\u0415\u0413-2.Q: TR1MG3.Qout.h2=2148.0, T09.UT05.SLTM.GIS_B2.Q=2217.0, |diff|=69.0\n",
        "\u0412\u0445\u043e\u0434 \u0421\u0415\u0413-2.T: TR1MG3.Pout.h2=86.0, T09.UT05.SLTM.GIS_B2.T=29.0, |diff|=57.0\n",
        "\n",
        "\u041a\u0440\u0430\u043d \u0420\u0414 385.Pin: L05S01C03Y031.385.\u041a\u0420.0.Pin.h2=75.5, T09.UT05.SLTM.KP104.V385\u041a\u0420.Pin=75.517074585, |diff|=0.0170745849609\n",
        "\u041a\u0440\u0430\u043d \u0420\u0414 385.Q: TR3G01.Q.h2=0.0, T09.UT05.SLTM.KP104.GIS.Q=0.0, |diff|=0.0\n",
        "\n",
        "\u041f\u0438\u043a\u0430\u043b\u0451\u0432\u043e \u041a\u04261.Pin: L05S01C03.Pin.h2=73.8, T09.UT05.KS.LIS.KC3.Pin=74.9707688726, |diff|=1.17076887262\n",
        "\u041f\u0438\u043a\u0430\u043b\u0451\u0432\u043e \u041a\u04261.Pout: L05S01C03.Pout.h2=88.7, T09.UT05.KS.LIS.KC3.Pout=88.1363854342, |diff|=0.563614565766\n",
        "\u041f\u0438\u043a\u0430\u043b\u0451\u0432\u043e \u041a\u04261.Tin: L05S01C03.Tin.h2=15.0, T09.UT05.KS.LIS.KC3.Tin=12.7204589844, |diff|=2.27954101562\n",
        "\u041f\u0438\u043a\u0430\u043b\u0451\u0432\u043e \u041a\u04261.Tout: L05S01C03.Tout.h2=23.0, T09.UT05.KS.LIS.KC3.Tout=25.7346191406, |diff|=2.73461914062\n",
        "\u041f\u0438\u043a\u0430\u043b\u0451\u0432\u043e \u041a\u04261.Patm: L05S01C03.Patm.h2=739.5, T09.UT05.KS.LIS.KC3.Patm=1.00370069329, |diff|=738.496299307\n",
        "\u041f\u0438\u043a\u0430\u043b\u0451\u0432\u043e \u041a\u04261.Patm: L05S01C03.Tatm.h2=0.2, T09.UT05.KS.LIS.KC3.Tatm=0.51318359375, |diff|=0.31318359375\n",
        "\u041f\u0438\u043a\u0430\u043b\u0451\u0432\u043e \u041a\u04261 - \u0413\u041f\u04101.Mode: L05S01C03A01.Mode.h2=1.0, T09.UT05.KS.GPA31.Mode=1.0, |diff|=0.0\n",
        "\u041f\u0438\u043a\u0430\u043b\u0451\u0432\u043e \u041a\u04261 - \u0413\u041f\u04101.N: L05S01C03A01.Nav.h2=nan, T09.UT05.KS.GPA31.N=4502.90234375, |diff|=nan\n"
       ]
      }
     ],
     "prompt_number": 202
    },
    {
     "cell_type": "code",
     "collapsed": false,
     "input": [
      "#df_filter = df[df.tag=='TR1MG2.Pout.h2']\n",
      "#df_filter.groupby(['value']).min().head(1)\""
     ],
     "language": "python",
     "metadata": {},
     "outputs": []
    },
    {
     "cell_type": "markdown",
     "metadata": {},
     "source": [
      "\u041f\u0440\u043e\u0432\u0435\u0440\u0438\u0442\u044c \u0434\u0430\u043d\u043d\u044b\u0435 PSI, \u0441\u0440\u0430\u0432\u043d\u0438\u0442\u044c \u0441 \u041e\u041f\u042d\u0422\u0418\n",
      "\u041d\u0430\u0439\u0442\u0438 \u0443\u0447\u0430\u0441\u0442\u043a\u0438 \u0441\u0442\u0430\u0446\u0438\u043e\u043d\u0430\u0440\u043d\u043e\u0441\u0442\u0438. \u041f\u043e\u0441\u043c\u043e\u0442\u0440\u0435\u0442\u044c \u043f\u043e \u0440\u0430\u0441\u0445\u043e\u0434\u0430\u043c \u0432\u0445\u043e\u0434\u0430/\u0432\u044b\u0445\u043e\u0434\u0430\n",
      "\u0421\u043f\u0440\u043e\u0441\u0438\u0442\u044c \u0421\u0430\u0440\u0434\u0430\u043d\u0430\u0448\u0432\u0438\u043b\u0438 \u0438 \u041c\u0421\u041a \u043e\u0431 \u0438\u0434\u0435\u043d\u0442\u0438\u0444\u0438\u043a\u0430\u0446\u0438\u0438 \u0441\u0442\u0430\u0446\u0438\u043e\u043d\u0430\u0440\u043d\u043e\u0441\u0442\u0438, \u0447\u0442\u043e \u043f\u043e\u0447\u0438\u0442\u0430\u0442\u044c?"
     ]
    }
   ],
   "metadata": {}
  }
 ]
}