{
 "metadata": {
  "name": "pandaseg.ipynb"
 },
 "nbformat": 3,
 "nbformat_minor": 0,
 "worksheets": [
  {
   "cells": [
    {
     "cell_type": "code",
     "collapsed": false,
     "input": [
      "from pandas import read_csv\n",
      "from pandas import DataFrame\n",
      "from pandas import to_datetime\n",
      "import os\n",
      "path = \"C:\\\\Pandas\\\\\""
     ],
     "language": "python",
     "metadata": {},
     "outputs": []
    },
    {
     "cell_type": "code",
     "collapsed": false,
     "input": [
      "def get_datetime_from_filename(filename):\n",
      "    datestring = filename[7:13]\n",
      "    year = \"20\" + datestring[0:2]\n",
      "    month = datestring[2:4]\n",
      "    day = datestring[4:6]\n",
      "    timestring = filename[14:18]\n",
      "    hour = timestring[0:2]\n",
      "    minute = timestring[2:4]\n",
      "    # example: to_datetime('2014-02-14 13:00:00')\n",
      "    result = to_datetime(\"{0}-{1}-{2} {3}:{4}:00\".format(year, month, day, hour, minute))\n",
      "    return result\n",
      "\n",
      "print get_datetime_from_filename(\"IN_OUT_140212_0100.dat\")\n",
      "\n",
      "def read_file_to_dataframe(filename):\n",
      "    df = read_csv(path + filename, \"\\t\", usecols=[0,1], names=[\"tag\", \"value\"], header=None)\n",
      "    df['datetime'] = get_datetime_from_filename(filename)\n",
      "    df['datetimeindex'] = get_datetime_from_filename(filename)\n",
      "    df = df.set_index('datetimeindex')\n",
      "    #df['value'] = df['value'].astype(float)\n",
      "    return df\n",
      "    \n",
      "print read_file_to_dataframe(\"IN_OUT_140214_1400.dat\")"
     ],
     "language": "python",
     "metadata": {},
     "outputs": []
    },
    {
     "cell_type": "code",
     "collapsed": false,
     "input": [
      "filenames = os.listdir(path)\n",
      "df = DataFrame()\n",
      "for fn in filenames:\n",
      "    print fn\n",
      "    dfi = read_file_to_dataframe(fn)\n",
      "    df = df.append(dfi)\n",
      "print df"
     ],
     "language": "python",
     "metadata": {},
     "outputs": []
    },
    {
     "cell_type": "code",
     "collapsed": false,
     "input": [
      "df[df.tag=='TR1MG2.Pout.h2'].plot()\n",
      "df[df.tag=='TR1MG3.Pout.h2'].plot()"
     ],
     "language": "python",
     "metadata": {},
     "outputs": []
    },
    {
     "cell_type": "code",
     "collapsed": false,
     "input": [
      "df_filter = df[df.tag=='TR1MG2.Pout.h2']\n",
      "df_filter.groupby(['value']).min().head(1)"
     ],
     "language": "python",
     "metadata": {},
     "outputs": []
    },
    {
     "cell_type": "code",
     "collapsed": false,
     "input": [
      "df[(df.datetime==to_datetime('2014-02-19 12:00:00')) & (df.tag=='TR1MG2.Pout.h2')]=df[(df.datetime==to_datetime('2014-02-19 11:00:00')) & (df.tag=='TR1MG2.Pout.h2')]"
     ],
     "language": "python",
     "metadata": {},
     "outputs": []
    },
    {
     "cell_type": "code",
     "collapsed": false,
     "input": [
      "def value_by_tag(filtered_df, tag):\n",
      "    return filtered_df[filtered_df.tag==tag].iloc[0]['value']\n",
      "\n",
      "def print_datetime_report(datetime, df):\n",
      "    df = df[df.datetime == to_datetime(datetime)]\n",
      "    print \"\u0412\u0445\u043e\u0434 \u0421\u0415\u0413-1, P = {0}, Q = {1}, T = {2}\".format(\n",
      "        value_by_tag(df, 'TR1MG2.Pout.h2'), \n",
      "        value_by_tag(df, 'TR1MG2.Qout.h2'), \n",
      "        value_by_tag(df, 'TR1MG2.Tout.h2')\n",
      "    )\n",
      "    print \"\u0412\u0445\u043e\u0434 \u0421\u0415\u0413-2, P = {0}, Q = {1}, T = {2}\".format(\n",
      "        value_by_tag(df, 'TR1MG3.Pout.h2'), \n",
      "        value_by_tag(df, 'TR1MG3.Qout.h2'), \n",
      "        value_by_tag(df, 'TR1MG3.Tout.h2')\n",
      "    )\n",
      "    \n",
      "print_datetime_report('2014-02-14 14:00:00', df)"
     ],
     "language": "python",
     "metadata": {},
     "outputs": []
    },
    {
     "cell_type": "code",
     "collapsed": false,
     "input": [
      "\u041f\u0440\u043e\u0432\u0435\u0440\u0438\u0442\u044c \u0434\u0430\u043d\u043d\u044b\u0435 PSI, \u0441\u0440\u0430\u0432\u043d\u0438\u0442\u044c \u0441 \u041e\u041f\u042d\u0422\u0418\n",
      "\u041d\u0430\u0439\u0442\u0438 \u0443\u0447\u0430\u0441\u0442\u043a\u0438 \u0441\u0442\u0430\u0446\u0438\u043e\u043d\u0430\u0440\u043d\u043e\u0441\u0442\u0438. \u041f\u043e\u0441\u043c\u043e\u0442\u0440\u0435\u0442\u044c \u043f\u043e \u0440\u0430\u0441\u0445\u043e\u0434\u0430\u043c \u0432\u0445\u043e\u0434\u0430/\u0432\u044b\u0445\u043e\u0434\u0430\n",
      "\u0421\u043f\u0440\u043e\u0441\u0438\u0442\u044c \u0421\u0430\u0440\u0434\u0430\u043d\u0430\u0448\u0432\u0438\u043b\u0438 \u0438 \u041c\u0421\u041a \u043e\u0431 \u0438\u0434\u0435\u043d\u0442\u0438\u0444\u0438\u043a\u0430\u0446\u0438\u0438 \u0441\u0442\u0430\u0446\u0438\u043e\u043d\u0430\u0440\u043d\u043e\u0441\u0442\u0438, \u0447\u0442\u043e \u043f\u043e\u0447\u0438\u0442\u0430\u0442\u044c?"
     ],
     "language": "python",
     "metadata": {},
     "outputs": []
    }
   ],
   "metadata": {}
  }
 ]
}