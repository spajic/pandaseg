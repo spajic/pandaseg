{
 "metadata": {
  "name": "pandaseg.ipynb"
 },
 "nbformat": 3,
 "nbformat_minor": 0,
 "worksheets": [
  {
   "cells": [
    {
     "cell_type": "code",
     "collapsed": false,
     "input": [
      "import pandas as pd\n",
      "from pandas import read_csv\n",
      "from pandas import DataFrame\n",
      "from pandas import to_datetime\n",
      "import os\n",
      "from os.path import isfile, join"
     ],
     "language": "python",
     "metadata": {},
     "outputs": []
    },
    {
     "cell_type": "code",
     "collapsed": false,
     "input": [
      "def get_datetime_from_filename(filename):\n",
      "    datestring = filename[7:13]\n",
      "    year = \"20\" + datestring[0:2]\n",
      "    month = datestring[2:4]\n",
      "    day = datestring[4:6]\n",
      "    timestring = filename[14:18]\n",
      "    hour = timestring[0:2]\n",
      "    minute = timestring[2:4]\n",
      "    # example: to_datetime('2014-02-14 13:00:00')\n",
      "    result = to_datetime(\"{0}-{1}-{2} {3}:{4}:00\".format(year, month, day, hour, minute))\n",
      "    return result\n",
      "\n",
      "print get_datetime_from_filename(\"IN_OUT_140212_0100.dat\")\n",
      "\n",
      "def read_file_to_dataframe(path, filename, enc):\n",
      "    df = read_csv(path + filename, \"\\t\", usecols=[0,1], names=[\"tag\", \"value\"], header=None, encoding=enc)\n",
      "    df['datetime'] = get_datetime_from_filename(filename)\n",
      "    df['datetimeindex'] = get_datetime_from_filename(filename)\n",
      "    df = df.set_index('datetimeindex')\n",
      "    #df['value'] = df['value'].astype(float)\n",
      "    return df"
     ],
     "language": "python",
     "metadata": {},
     "outputs": []
    },
    {
     "cell_type": "code",
     "collapsed": false,
     "input": [
      "def load_dir_to_df(path, encoding):\n",
      "    filenames = [ f for f in os.listdir(path) if isfile(join(path,f)) ]\n",
      "    df = DataFrame()\n",
      "    for fn in filenames:\n",
      "        print fn\n",
      "        dfi = read_file_to_dataframe(path, fn, encoding)\n",
      "        df = df.append(dfi)\n",
      "    print df\n",
      "    return df\n",
      "\n",
      "path_opeti = \"C:\\\\Pandas\\\\\"\n",
      "path_psi = \"C:\\\\Pandas\\\\PSI\\\\\"\n",
      "df_opeti = load_dir_to_df(path_opeti, 'cp1251')\n",
      "df_psi = load_dir_to_df(path_psi, 'utf-8')"
     ],
     "language": "python",
     "metadata": {},
     "outputs": []
    },
    {
     "cell_type": "code",
     "collapsed": false,
     "input": [
      "df_SEG1_P = df[df.tag=='TR1MG2.Pout.h2']\n",
      "# \u0423\u0434\u0430\u043b\u044f\u0435\u043c \u0438\u0437\u0432\u0435\u0441\u0442\u043d\u044b\u0439 \u0432\u044b\u0431\u0440\u043e\u0441\n",
      "df_SEG1_P[(df_SEG1_P.datetime==to_datetime('2014-02-19 12:00:00'))]=df_SEG1_P[(df_SEG1_P.datetime==to_datetime('2014-02-19 11:00:00'))]\n",
      "df_SEG2_P = df[df.tag=='TR1MG3.Pout.h2']\n",
      "df_SEG2_P.columns = ['datetime_seg2', 'tag_seg2', 'value_seg2']\n",
      "res = df_SEG1_P.join(df_SEG2_P)\n",
      "res['diff'] = abs(res['value_seg2']-res['value'])\n",
      "print res\n",
      "# \u0417\u0430\u0434\u0430\u0447\u0430: \u043f\u043e\u0441\u0442\u0440\u043e\u0438\u0442\u044c \u044d\u0442\u0438 \u0434\u0432\u0430 df \u043d\u0430 \u043e\u0434\u043d\u043e\u043c \u0445\u043e\u043b\u0441\u0442\u0435, \u0430 \u0442\u0430\u043a \u0436\u0435 \u0433\u0440\u0430\u0444\u0438\u043a \u0438\u0445 \u0440\u0430\u0437\u043d\u043e\u0441\u0442\u0438 \u0432 \u0434\u0440\u0443\u0433\u043e\u0439 \u0448\u043a\u0430\u043b\u0435\n",
      "res.plot(secondary_y=['diff'])\n",
      "#res.value.plot()\n",
      "#res.valuepsi.plot()"
     ],
     "language": "python",
     "metadata": {},
     "outputs": []
    },
    {
     "cell_type": "code",
     "collapsed": false,
     "input": [
      "def vbt(filtered_df, tag): # value by tag\n",
      "    return filtered_df[filtered_df.tag==tag].iloc[0]['value']\n",
      "\n",
      "def print_report_row(row):\n",
      "    if row[0] == 'empty':\n",
      "        print \"\"\n",
      "        return\n",
      "    print \"{0}.{1}: {2}={3}, {4}={5}, |diff|={6}\".format(\n",
      "        row[0], row[1], row[2], row[3], row[4], row[5], row[6])\n",
      "\n",
      "def calculate_difference_for_report(report):\n",
      "    for row in report:\n",
      "        if row[0] == 'empty':\n",
      "            continue\n",
      "        row.append( abs(row[5]-row[3]) ) # abs(PSI - \u041e\u041f\u042d\u0422\u0418)\n",
      "        \n",
      "def print_report_rows(report):\n",
      "    for row in report:        \n",
      "        print_report_row(row)\n",
      "\n",
      "def print_datetime_report(datetime, df_opeti, df_psi):\n",
      "    df_o = df_opeti[df_opeti.datetime == to_datetime(datetime)]\n",
      "    df_p = df_psi[df_psi.datetime == to_datetime(datetime)]\n",
      "    # \u0421\u0444\u043e\u0440\u043c\u0438\u0440\u0443\u044e \u043e\u0442\u0447\u0451\u0442 \u0432 \u0432\u0438\u0434\u0435 \u0442\u0430\u0431\u043b\u0438\u0447\u043a\u0438 \u0432\u0438\u0434\u0430\n",
      "    # |\u041e\u0431\u044a\u0435\u043a\u0442 \u043f\u043e \u0440\u0443\u0441\u0441\u043a\u0438| \u0418\u043c\u044f \u043f\u0430\u0440\u0430\u043c\u0435\u0442\u0440\u0430 | \u0422\u0435\u0433 \u041e\u041f\u042d\u0422\u0418 | \u0417\u043d\u0430\u0447\u0435\u043d\u0438\u0435 \u041e\u041f\u042d\u0422\u0418 | \u0422\u0415\u0413 PSI | \u0417\u043d\u0430\u0447\u0435\u043d\u0438\u0435 PSI | abs(\u041e\u041f\u042d\u0422\u0418-PSI) |\n",
      "    report = []\n",
      "    report.append(['\u0412\u0445\u043e\u0434 \u0421\u0415\u0413-1', 'P', 'TR1MG2.Pout.h2', vbt(df_o, 'TR1MG2.Pout.h2'), 'T09.UT05.SLTM.GIS_B.P', vbt(df_p, 'T09.UT05.SLTM.GIS_B.P')])\n",
      "    report.append(['\u0412\u0445\u043e\u0434 \u0421\u0415\u0413-1', 'Q', 'TR1MG2.Qout.h2', vbt(df_o, 'TR1MG2.Qout.h2'), 'T09.UT05.SLTM.GIS_B.Q', vbt(df_p, 'T09.UT05.SLTM.GIS_B.Q')])\n",
      "    report.append(['\u0412\u0445\u043e\u0434 \u0421\u0415\u0413-1', 'T', 'TR1MG2.Pout.h2', vbt(df_o, 'TR1MG2.Tout.h2'), 'T09.UT05.SLTM.GIS_B.T', vbt(df_p, 'T09.UT05.SLTM.GIS_B.T')])\n",
      "    report.append(['empty'])\n",
      "    report.append(['\u0412\u0445\u043e\u0434 \u0421\u0415\u0413-2', 'P', 'TR1MG3.Pout.h2', vbt(df_o, 'TR1MG3.Pout.h2'), 'T09.UT05.SLTM.GIS_B2.P', vbt(df_p, 'T09.UT05.SLTM.GIS_B2.P')])\n",
      "    report.append(['\u0412\u0445\u043e\u0434 \u0421\u0415\u0413-2', 'Q', 'TR1MG3.Qout.h2', vbt(df_o, 'TR1MG3.Qout.h2'), 'T09.UT05.SLTM.GIS_B2.Q', vbt(df_p, 'T09.UT05.SLTM.GIS_B2.Q')])\n",
      "    report.append(['\u0412\u0445\u043e\u0434 \u0421\u0415\u0413-2', 'T', 'TR1MG3.Pout.h2', vbt(df_o, 'TR1MG3.Tout.h2'), 'T09.UT05.SLTM.GIS_B2.T', vbt(df_p, 'T09.UT05.SLTM.GIS_B2.T')])\n",
      "    report.append(['empty'])\n",
      "    report.append(['\u041a\u0440\u0430\u043d \u0420\u0414 385', 'Pin', 'L05S01C03Y031.385.\u041a\u0420.0.Pin.h2', vbt(df_o, u'L05S01C03Y031.385.\u041a\u0420.0.Pin.h2'), 'T09.UT05.SLTM.KP104.V385\u041a\u0420.Pin', vbt(df_p, u'T09.UT05.SLTM.KP104.V385\u041a\u0420.Pin')])\n",
      "    \n",
      "    calculate_difference_for_report(report)\n",
      "    print_report_rows(report)\n",
      "        \n",
      "print_datetime_report('2014-02-14 14:00:00', df_opeti, df_psi)"
     ],
     "language": "python",
     "metadata": {},
     "outputs": []
    },
    {
     "cell_type": "code",
     "collapsed": false,
     "input": [
      "#df_filter = df[df.tag=='TR1MG2.Pout.h2']\n",
      "#df_filter.groupby(['value']).min().head(1)\""
     ],
     "language": "python",
     "metadata": {},
     "outputs": []
    },
    {
     "cell_type": "markdown",
     "metadata": {},
     "source": [
      "\u041f\u0440\u043e\u0432\u0435\u0440\u0438\u0442\u044c \u0434\u0430\u043d\u043d\u044b\u0435 PSI, \u0441\u0440\u0430\u0432\u043d\u0438\u0442\u044c \u0441 \u041e\u041f\u042d\u0422\u0418\n",
      "\u041d\u0430\u0439\u0442\u0438 \u0443\u0447\u0430\u0441\u0442\u043a\u0438 \u0441\u0442\u0430\u0446\u0438\u043e\u043d\u0430\u0440\u043d\u043e\u0441\u0442\u0438. \u041f\u043e\u0441\u043c\u043e\u0442\u0440\u0435\u0442\u044c \u043f\u043e \u0440\u0430\u0441\u0445\u043e\u0434\u0430\u043c \u0432\u0445\u043e\u0434\u0430/\u0432\u044b\u0445\u043e\u0434\u0430\n",
      "\u0421\u043f\u0440\u043e\u0441\u0438\u0442\u044c \u0421\u0430\u0440\u0434\u0430\u043d\u0430\u0448\u0432\u0438\u043b\u0438 \u0438 \u041c\u0421\u041a \u043e\u0431 \u0438\u0434\u0435\u043d\u0442\u0438\u0444\u0438\u043a\u0430\u0446\u0438\u0438 \u0441\u0442\u0430\u0446\u0438\u043e\u043d\u0430\u0440\u043d\u043e\u0441\u0442\u0438, \u0447\u0442\u043e \u043f\u043e\u0447\u0438\u0442\u0430\u0442\u044c?"
     ]
    }
   ],
   "metadata": {}
  }
 ]
}